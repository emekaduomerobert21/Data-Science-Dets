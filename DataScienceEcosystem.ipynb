{
 "cells": [
  {
   "cell_type": "markdown",
   "id": "2a16e0cf-3c5c-4244-8716-df6f91db55c1",
   "metadata": {},
   "source": [
    "# Data Science Tools and Ecosystem"
   ]
  },
  {
   "cell_type": "markdown",
   "id": "f4b1e3c7-09f4-4132-8df3-3549b44b4888",
   "metadata": {},
   "source": [
    "### In this notebook, Data Science Tools and Ecosystem are summarized."
   ]
  },
  {
   "cell_type": "markdown",
   "id": "3f546610-b676-4892-823b-48878a432a6b",
   "metadata": {
    "tags": []
   },
   "source": [
    "### Some of the popular languages that Data Scientists use are::\n",
    "### (ordered list)\n",
    " * Python\n",
    " * R\n",
    " * SQL"
   ]
  },
  {
   "cell_type": "markdown",
   "id": "2575b91e-8786-41d3-b914-04b7910dafcd",
   "metadata": {
    "tags": []
   },
   "source": [
    "### Some of the commonly used libraries used by Data Scientists include: \n",
    "### {ordered list)\n",
    "* Mathplotlib\n",
    "* NumPy\n",
    "* Pandas\n",
    "    "
   ]
  },
  {
   "cell_type": "markdown",
   "id": "96459c9a-96de-410f-9b9a-b4fa623f65c0",
   "metadata": {
    "tags": []
   },
   "source": [
    "### Data Science Tools\n",
    "| Data Science tools |\n",
    "|---|\n",
    "|Jupyter Notebook|\n",
    "|RStudio|\n",
    "|Visual Studio Code|\n",
    "|PyCharm|"
   ]
  },
  {
   "cell_type": "markdown",
   "id": "f9b5718e-6107-4dc2-98c7-a147e0643541",
   "metadata": {},
   "source": [
    "### Below are a few examples of evaluating arithmetic expressions in Python"
   ]
  },
  {
   "cell_type": "code",
   "execution_count": 2,
   "id": "baa20fe3-0e1d-4d0a-b0ba-cfc68efe0350",
   "metadata": {
    "tags": []
   },
   "outputs": [
    {
     "data": {
      "text/plain": [
       "17"
      ]
     },
     "execution_count": 2,
     "metadata": {},
     "output_type": "execute_result"
    }
   ],
   "source": [
    "(3*4)+5\n",
    "# This a simple arithmetic expression to mutiply then add integers"
   ]
  },
  {
   "cell_type": "code",
   "execution_count": 3,
   "id": "3c4bef6f-887d-406b-9e49-8cbd231089da",
   "metadata": {
    "tags": []
   },
   "outputs": [
    {
     "name": "stdin",
     "output_type": "stream",
     "text": [
      "Give me your time 200\n"
     ]
    },
    {
     "name": "stdout",
     "output_type": "stream",
     "text": [
      "Your time is 3hrs 20mins\n"
     ]
    }
   ],
   "source": [
    "#lET US GO\n",
    "#this will convert yout time in minutes to hours by diving by 60\n",
    "\n",
    "X = int(input(\"Give me your time\"))\n",
    "while X<= 60:\n",
    "    print(\"Stop give the Wrong Response\")\n",
    "    X = int(input(\"Give me your time\"))\n",
    "hr = X//60\n",
    "min = X%60\n",
    "print((\"Your time is {}hrs {}mins\").format(hr,min))"
   ]
  },
  {
   "cell_type": "markdown",
   "id": "f6571d07-5913-477b-b6aa-16dccf1bda24",
   "metadata": {},
   "source": [
    "### **Objectives:**\n",
    "### (unordered list)\n",
    "### List popular languages for Data Science:\n",
    "* Java\n",
    "* python \n",
    "* SQL\n",
    "* R"
   ]
  },
  {
   "cell_type": "markdown",
   "id": "5aa3859d-470b-433d-8813-4fef1bc98d6c",
   "metadata": {},
   "source": [
    "## Author\n",
    "Emekaduome Ebubechukwu"
   ]
  }
 ],
 "metadata": {
  "kernelspec": {
   "display_name": "Python",
   "language": "python",
   "name": "conda-env-python-py"
  },
  "language_info": {
   "codemirror_mode": {
    "name": "ipython",
    "version": 3
   },
   "file_extension": ".py",
   "mimetype": "text/x-python",
   "name": "python",
   "nbconvert_exporter": "python",
   "pygments_lexer": "ipython3",
   "version": "3.7.12"
  }
 },
 "nbformat": 4,
 "nbformat_minor": 5
}
